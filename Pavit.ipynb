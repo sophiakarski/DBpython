{
  "nbformat": 4,
  "nbformat_minor": 0,
  "metadata": {
    "colab": {
      "name": "Welcome To Colaboratory",
      "provenance": [],
      "collapsed_sections": [],
      "include_colab_link": true
    },
    "kernelspec": {
      "display_name": "Python 3",
      "name": "python3"
    }
  },
  "cells": [
    {
      "cell_type": "markdown",
      "metadata": {
        "id": "view-in-github",
        "colab_type": "text"
      },
      "source": [
        "<a href=\"https://colab.research.google.com/github/sophiakarski/DBpython/blob/master/Pavit.ipynb\" target=\"_parent\"><img src=\"https://colab.research.google.com/assets/colab-badge.svg\" alt=\"Open In Colab\"/></a>"
      ]
    },
    {
      "cell_type": "code",
      "metadata": {
        "id": "zIKZk6EZKc_H",
        "colab_type": "code",
        "colab": {}
      },
      "source": [
        "import pandas as pd\n",
        "import warnings\n",
        "warnings.filterwarnings('ignore')\n",
        "\n",
        "income = pd.read_csv(\"./Income.csv\")\n",
        "obesity = pd.read_csv(\"./Obesity.csv\")\n",
        "popden = pd.read_csv(\"./Popdensity.csv\")"
      ],
      "execution_count": null,
      "outputs": []
    },
    {
      "cell_type": "code",
      "metadata": {
        "id": "cU-A2q0MKe40",
        "colab_type": "code",
        "colab": {}
      },
      "source": [
        "income_trimmed = income.iloc[:, 0:3]\n",
        "obesity_trimmed = obesity.iloc[:, 0:3]\n",
        "popden_trimmed = popden.iloc[:, 0:3]"
      ],
      "execution_count": null,
      "outputs": []
    },
    {
      "cell_type": "code",
      "metadata": {
        "id": "X5KmxjaSKhMV",
        "colab_type": "code",
        "colab": {}
      },
      "source": [
        "income_renamed_columns  = income_trimmed.rename(columns = {\"Region / County codes\": \"LAC\"})\n",
        "obesity_renamed_columns = obesity_trimmed.rename(columns = {\"Region and LA of residence\": \"LAC\"})\n",
        "popden_renamed_columns  = popden_trimmed.rename(columns = {\"Area code 2\" : \"LAC\"})\n",
        "\n",
        "obesity_renamed_columns = obesity_renamed_columns.dropna(axis = 0, how = 'all')\n",
        "income_renamed_columns = income_renamed_columns.dropna(axis = 0, how = 'all')\n",
        "popden_renamed_columns = popden_renamed_columns.dropna(axis = 0, how = 'all')\n",
        "\n",
        "income_obesity = pd.merge(income_renamed_columns, obesity_renamed_columns, on=\"LAC\", how=\"inner\")\n",
        "income_obesity_popden = pd.merge(income_obesity, popden_renamed_columns, on=\"LAC\", how=\"inner\")\n",
        "\n",
        "income_obesity_popden = income_obesity_popden.drop(columns=['Unnamed: 1_y', 'Unnamed: 1_x'])\n",
        "income_obesity_popden = income_obesity_popden.rename(columns={\"All persons5\" : \"Obesity Rate\"\n",
        "                                                              ,\"Population3 density\": \"Population Density / hectare\"})\n",
        "\n",
        "income_obesity_popden"
      ],
      "execution_count": null,
      "outputs": []
    },
    {
      "cell_type": "code",
      "metadata": {
        "id": "UYHVTTGdKjyc",
        "colab_type": "code",
        "colab": {}
      },
      "source": [
        "# obesity_nan_removed = obesity_trimmed.dropna(axis = 0, how = 'all')\n",
        "# obesity_header_renamed = obesity_nan_removed.rename(columns={\"Region and LA of residence\": \"Local Authority Code\",\n",
        "#                                                    \"Unnamed: 1\": \"Local Authority Name\",\n",
        "#                                                    \"All persons5\": \"Value\"})\n",
        "# obesity_header_renamed\n",
        "# obesity_header_renamed['Value'] = obesity_header_renamed['Value'].replace(',', '', regex=True).copy(deep = True) \n",
        "# obesity_header_renamed['Value'] = obesity_header_renamed['Value'].astype(int)\n",
        "# obesity_sorted_by_value = obesity_header_renamed.sort_values(by = ['Value'], ascending=False)\n",
        "# obesity_negative_removed = obesity_sorted_by_value[obesity_sorted_by_value['Value'] > 0]\n",
        "# with pd.option_context('display.max_rows', None, 'display.max_columns', None):  # more options can be specified also\n",
        "#     display(obesity_negative_removed) "
      ],
      "execution_count": null,
      "outputs": []
    }
  ]
}